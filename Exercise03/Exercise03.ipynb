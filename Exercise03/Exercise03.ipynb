{
 "cells": [
  {
   "cell_type": "code",
   "execution_count": 1,
   "metadata": {},
   "outputs": [],
   "source": [
    "#import libraries\n",
    "import random\n",
    "import numpy as np"
   ]
  },
  {
   "cell_type": "code",
   "execution_count": 2,
   "metadata": {},
   "outputs": [],
   "source": [
    "# create  function for random population\n",
    "def original_population(chromosomes, genes):\n",
    "    #initialize the population with zeroes\n",
    "    population =  np.zeros((chromosomes, genes))\n",
    "    #loop through each chromosome\n",
    "    for i in range(chromosomes):\n",
    "        #get random no. of ones to be created\n",
    "        ones = random.randint(0, genes)\n",
    "        #change zeroes to ones\n",
    "        population[i, 0:ones] = 1\n",
    "        #shuffle rows\n",
    "        np.random.shuffle(population[i])\n",
    "    return population"
   ]
  },
  {
   "cell_type": "code",
   "execution_count": 3,
   "metadata": {},
   "outputs": [],
   "source": [
    "# create target solution\n",
    "def create_target_solution(gene):\n",
    "    #assume that there is an equal number of ones and zeroes\n",
    "    counting_ones = int(gene/2)\n",
    "\n",
    "    # build array with equal no. of ones and zeros\n",
    "    target = np.zeros(gene)\n",
    "    target[0:counting_ones] = 1\n",
    "\n",
    "    # shuffle the array to mix zeroes and ones\n",
    "    np.random.shuffle(target)\n",
    "\n",
    "    return target"
   ]
  },
  {
   "cell_type": "code",
   "execution_count": 4,
   "metadata": {},
   "outputs": [],
   "source": [
    "# calculate the fitness of the population\n",
    "def fitness_function(target,population):\n",
    "    #create an array of true/false compared to the reference\n",
    "    identical_to_target = population == target\n",
    "    #sum no. of genes that are identical\n",
    "    fitness_weights = identical_to_target.sum(axis = 1)\n",
    "    return fitness_weights"
   ]
  },
  {
   "cell_type": "code",
   "execution_count": 5,
   "metadata": {},
   "outputs": [],
   "source": [
    "#population of 5 chromosomes, each having 8 genes\n",
    "population = original_population(5,8)\n",
    "target = create_target_solution(8)\n",
    "weights = fitness_function(target,population)"
   ]
  },
  {
   "cell_type": "code",
   "execution_count": 6,
   "metadata": {},
   "outputs": [
    {
     "name": "stdout",
     "output_type": "stream",
     "text": [
      "\n",
      " target: [0. 0. 1. 1. 1. 0. 0. 1.]\n",
      "Index: 0 \n",
      " chromosome: [1. 1. 1. 1. 1. 0. 1. 1.] \n",
      " similarity to target: 5\n",
      "Index: 1 \n",
      " chromosome: [1. 0. 1. 1. 1. 0. 0. 0.] \n",
      " similarity to target: 6\n",
      "Index: 2 \n",
      " chromosome: [1. 0. 0. 0. 0. 0. 0. 0.] \n",
      " similarity to target: 3\n",
      "Index: 3 \n",
      " chromosome: [0. 0. 0. 1. 1. 0. 1. 0.] \n",
      " similarity to target: 5\n",
      "Index: 4 \n",
      " chromosome: [1. 0. 0. 1. 1. 1. 0. 1.] \n",
      " similarity to target: 5\n"
     ]
    }
   ],
   "source": [
    "print('\\n target:', target)\n",
    "for i in range(len(population)):\n",
    "    print('Index:', i, '\\n chromosome:', population[i],'\\n similarity to target:', weights[i])\n"
   ]
  }
 ],
 "metadata": {
  "kernelspec": {
   "display_name": "Python 3",
   "language": "python",
   "name": "python3"
  },
  "language_info": {
   "codemirror_mode": {
    "name": "ipython",
    "version": 3
   },
   "file_extension": ".py",
   "mimetype": "text/x-python",
   "name": "python",
   "nbconvert_exporter": "python",
   "pygments_lexer": "ipython3",
   "version": "3.7.3"
  }
 },
 "nbformat": 4,
 "nbformat_minor": 1
}
