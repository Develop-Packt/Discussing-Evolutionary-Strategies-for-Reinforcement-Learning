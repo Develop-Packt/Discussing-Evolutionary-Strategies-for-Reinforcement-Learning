{
 "cells": [
  {
   "cell_type": "code",
   "execution_count": 1,
   "metadata": {},
   "outputs": [],
   "source": [
    "#import libraries\n",
    "import random\n",
    "import numpy as np"
   ]
  },
  {
   "cell_type": "code",
   "execution_count": 2,
   "metadata": {},
   "outputs": [],
   "source": [
    "# create  function for random population\n",
    "def original_population(chromosomes, genes):\n",
    "    #initialize the population with zeroes\n",
    "    population =  np.zeros((chromosomes, genes))\n",
    "    #loop through each chromosome\n",
    "    for i in range(chromosomes):\n",
    "        #get random no. of ones to be created\n",
    "        ones = random.randint(0, genes)\n",
    "        #change zeroes to ones\n",
    "        population[i, 0:ones] = 1\n",
    "        #shuffle rows\n",
    "        np.random.shuffle(population[i])\n",
    "    return population"
   ]
  },
  {
   "cell_type": "code",
   "execution_count": 3,
   "metadata": {},
   "outputs": [],
   "source": [
    "# create target solution\n",
    "def create_target_solution(gene):\n",
    "    #assume that there is an equal number of ones and zeroes\n",
    "    counting_ones = int(gene/2)\n",
    "\n",
    "    # build array with equal no. of ones and zeros\n",
    "    target = np.zeros(gene)\n",
    "    target[0:counting_ones] = 1\n",
    "\n",
    "    # shuffle the array to mix zeroes and ones\n",
    "    np.random.shuffle(target)\n",
    "\n",
    "    return target"
   ]
  },
  {
   "cell_type": "code",
   "execution_count": 4,
   "metadata": {},
   "outputs": [],
   "source": [
    "# calculate the fitness of the population\n",
    "def fitness_function(target,population):\n",
    "    #create an array of true/false compared to the reference\n",
    "    identical_to_target = population == target\n",
    "    #sum no. of genes that are identical\n",
    "    fitness_weights = identical_to_target.sum(axis = 1)\n",
    "    return fitness_weights"
   ]
  },
  {
   "cell_type": "code",
   "execution_count": 5,
   "metadata": {},
   "outputs": [],
   "source": [
    "# select the best parents\n",
    "def select_parents(population, weights):\n",
    "    #identify the parent with the highest weight\n",
    "    parent1 = population[np.argmax(weights)]\n",
    "    #replace weight with the minimum number\n",
    "    weights[np.argmax(weights)] = 0\n",
    "    #identify the parent with the second highest weight\n",
    "    parent2 = population[np.argmax(weights)]\n",
    "    return parent1, parent2"
   ]
  },
  {
   "cell_type": "code",
   "execution_count": 6,
   "metadata": {},
   "outputs": [],
   "source": [
    " #define function for cross-over\n",
    "def crossover_reproduction(parents, population):\n",
    "    #define parents separately\n",
    "    parent1 = parents[0]\n",
    "    parent2 = parents[1]\n",
    "\n",
    "    #randomly assign a point for cross-over\n",
    "    p = random.randrange(0, len(population))\n",
    "    print(\"Crossover point:\", p)\n",
    "\n",
    "    #create children by joining the parents at the cross-over point\n",
    "    child1 = np.hstack((parent1[0:p],parent2[p:]))\n",
    "    child2 = np.hstack((parent2[0:p], parent1[p:]))\n",
    "\n",
    "\n",
    "    return child1, child2"
   ]
  },
  {
   "cell_type": "code",
   "execution_count": 7,
   "metadata": {},
   "outputs": [],
   "source": [
    "#create function for random mutations\n",
    "def mutate_population(population, mutation_probability):\n",
    "    #create array of random mutations that uses the population\n",
    "    mutation_array = np.random.random(size = (population.shape))\n",
    "    #compare elements of the array with the probability and put the results into an array\n",
    "    mutation_boolean = \\\n",
    "        mutation_array >= mutation_probability\n",
    "    #convert boolean into binary and store to create a new array for the population\n",
    "    population[mutation_boolean] = \\\n",
    "    np.logical_not(population[mutation_boolean])\n",
    "    return population"
   ]
  },
  {
   "cell_type": "code",
   "execution_count": 8,
   "metadata": {},
   "outputs": [],
   "source": [
    "#population of 5 chromosomes, each having 8 genes\n",
    "population = original_population(5,8)\n",
    "target = create_target_solution(8)\n",
    "weights = fitness_function(target,population)"
   ]
  },
  {
   "cell_type": "code",
   "execution_count": 12,
   "metadata": {},
   "outputs": [
    {
     "name": "stdout",
     "output_type": "stream",
     "text": [
      "Crossover point: 3\n"
     ]
    }
   ],
   "source": [
    "parents = select_parents(population,weights)\n",
    "children = crossover_reproduction(parents,population)"
   ]
  },
  {
   "cell_type": "code",
   "execution_count": 13,
   "metadata": {},
   "outputs": [
    {
     "name": "stdout",
     "output_type": "stream",
     "text": [
      "\n",
      "Population after the cross-over:\n",
      " [[0. 1. 0. 0. 0. 0. 1. 0.]\n",
      " [0. 0. 0. 0. 0. 1. 0. 0.]\n",
      " [1. 1. 1. 1. 1. 0. 0. 1.]\n",
      " [1. 1. 1. 0. 1. 1. 1. 1.]\n",
      " [0. 1. 1. 1. 1. 0. 0. 0.]\n",
      " [1. 1. 1. 1. 1. 0. 0. 1.]\n",
      " [1. 1. 1. 0. 1. 1. 1. 1.]]\n"
     ]
    }
   ],
   "source": [
    "# append\n",
    "population_crossover = np.append(population, children, axis= 0)\n",
    "print('\\nPopulation after the cross-over:\\n', population_crossover)"
   ]
  },
  {
   "cell_type": "code",
   "execution_count": 14,
   "metadata": {},
   "outputs": [
    {
     "name": "stdout",
     "output_type": "stream",
     "text": [
      "\n",
      "Next generation of the population:\n",
      " [[1. 0. 1. 1. 1. 1. 0. 1.]\n",
      " [1. 0. 1. 1. 1. 0. 1. 1.]\n",
      " [1. 0. 0. 0. 0. 1. 1. 0.]\n",
      " [0. 0. 0. 1. 0. 0. 0. 0.]\n",
      " [1. 0. 0. 0. 1. 1. 1. 1.]\n",
      " [0. 0. 0. 0. 0. 1. 1. 0.]\n",
      " [0. 0. 0. 1. 0. 1. 0. 1.]]\n"
     ]
    }
   ],
   "source": [
    "mutation_probability = 0.05\n",
    "new_population = mutate_population(population_crossover,mutation_probability)\n",
    "print('\\nNext generation of the population:\\n',new_population)"
   ]
  }
 ],
 "metadata": {
  "kernelspec": {
   "display_name": "Python 3",
   "language": "python",
   "name": "python3"
  },
  "language_info": {
   "codemirror_mode": {
    "name": "ipython",
    "version": 3
   },
   "file_extension": ".py",
   "mimetype": "text/x-python",
   "name": "python",
   "nbconvert_exporter": "python",
   "pygments_lexer": "ipython3",
   "version": "3.7.3"
  }
 },
 "nbformat": 4,
 "nbformat_minor": 1
}
