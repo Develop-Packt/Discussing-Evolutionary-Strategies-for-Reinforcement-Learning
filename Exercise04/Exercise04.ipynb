{
 "cells": [
  {
   "cell_type": "code",
   "execution_count": 151,
   "metadata": {},
   "outputs": [],
   "source": [
    "#import libraries\n",
    "import random\n",
    "import numpy as np"
   ]
  },
  {
   "cell_type": "code",
   "execution_count": 152,
   "metadata": {},
   "outputs": [],
   "source": [
    "# create  function for random population\n",
    "def original_population(chromosomes, genes):\n",
    "    #initialize the population with zeroes\n",
    "    population =  np.zeros((chromosomes, genes))\n",
    "    #loop through each chromosome\n",
    "    for i in range(chromosomes):\n",
    "        #get random no. of ones to be created\n",
    "        ones = random.randint(0, genes)\n",
    "        #change zeroes to ones\n",
    "        population[i, 0:ones] = 1\n",
    "        #shuffle rows\n",
    "        np.random.shuffle(population[i])\n",
    "    return population"
   ]
  },
  {
   "cell_type": "code",
   "execution_count": 153,
   "metadata": {},
   "outputs": [],
   "source": [
    "# create target solution\n",
    "def create_target_solution(gene):\n",
    "    #assume that there is an equal number of ones and zeroes\n",
    "    counting_ones = int(gene/2)\n",
    "\n",
    "    # build array with equal no. of ones and zeros\n",
    "    target = np.zeros(gene)\n",
    "    target[0:counting_ones] = 1\n",
    "\n",
    "    # shuffle the array to mix zeroes and ones\n",
    "    np.random.shuffle(target)\n",
    "\n",
    "    return target"
   ]
  },
  {
   "cell_type": "code",
   "execution_count": 154,
   "metadata": {},
   "outputs": [],
   "source": [
    "# calculate the fitness of the population\n",
    "def fitness_function(target,population):\n",
    "    #create an array of true/false compared to the reference\n",
    "    identical_to_target = population == target\n",
    "    #sum no. of genes that are identical\n",
    "    fitness_weights = identical_to_target.sum(axis = 1)\n",
    "    return fitness_weights"
   ]
  },
  {
   "cell_type": "code",
   "execution_count": 155,
   "metadata": {},
   "outputs": [],
   "source": [
    "# select the best parents\n",
    "def select_parents(population, weights):\n",
    "    #identify the parent with the highest weight\n",
    "    parent1 = population[np.argmax(weights)]\n",
    "    #replace weight with the minimum number\n",
    "    weights[np.argmax(weights)] = 0\n",
    "    #identify the parent with the second highest weight\n",
    "    parent2 = population[np.argmax(weights)]\n",
    "    return parent1, parent2"
   ]
  },
  {
   "cell_type": "code",
   "execution_count": 160,
   "metadata": {},
   "outputs": [],
   "source": [
    "#individual selection as a roulette wheel\n",
    "def choice_by_roulette(sorted_population, fitness):\n",
    "    normalised_fitness_sum = 0\n",
    "    #get a random draw probability\n",
    "    draw = random.uniform(0,1)\n",
    "#     print(draw)\n",
    "    prob = []\n",
    "     \n",
    "    #get the sum of all the fitness functions\n",
    "    for i in range(len(fitness)):\n",
    "        normalised_fitness_sum += fitness[i]\n",
    "    \n",
    "    ma = 0\n",
    "    n = 0\n",
    "   # calculate the probability of the fitness selection\n",
    "    for i in range(len(sorted_population)):\n",
    "        probability = fitness[i]/normalised_fitness_sum\n",
    "        #compare fitness to the maximum fitness and track it\n",
    "        prob_max = fitness[i]/np.argmax(fitness)\n",
    "        prob.append(probability)\n",
    "        if ma < prob_max:\n",
    "            ma = prob_max\n",
    "            n = i\n",
    "#     print(prob)\n",
    "    \n",
    "    #select individual based on the highest probability\n",
    "    for i in range(len(sorted_population)):\n",
    "        if draw <= prob[i]:\n",
    "            fitness[i] = 0\n",
    "            return sorted_population[i], fitness\n",
    "        else:\n",
    "            fitness[n] = 0\n",
    "            return sorted_population[n], fitness"
   ]
  },
  {
   "cell_type": "code",
   "execution_count": 161,
   "metadata": {},
   "outputs": [
    {
     "name": "stdout",
     "output_type": "stream",
     "text": [
      "[5 1 5 3 4]\n"
     ]
    }
   ],
   "source": [
    "#population of 5 chromosomes, each having 8 genes\n",
    "population = original_population(5,8)\n",
    "target = create_target_solution(8)\n",
    "weights = fitness_function(target,population)\n",
    "print(weights)"
   ]
  },
  {
   "cell_type": "code",
   "execution_count": 162,
   "metadata": {},
   "outputs": [
    {
     "name": "stdout",
     "output_type": "stream",
     "text": [
      "\n",
      " target: [0. 1. 1. 1. 1. 0. 0. 0.]\n",
      "Parent 1: [1. 1. 1. 1. 1. 0. 1. 1.] \n",
      "Parent 2: [1. 1. 1. 1. 1. 1. 1. 0.]\n",
      "[0 1 5 3 4]\n"
     ]
    }
   ],
   "source": [
    "print('\\n target:', target)\n",
    "#identify parents\n",
    "parents = select_parents(population,weights)\n",
    "print('Parent 1:', parents[0],'\\nParent 2:', parents[1] )\n",
    "print(weights)"
   ]
  },
  {
   "cell_type": "code",
   "execution_count": 163,
   "metadata": {},
   "outputs": [
    {
     "name": "stdout",
     "output_type": "stream",
     "text": [
      "0.8568696148662779\n",
      "[0.0, 0.07692307692307693, 0.38461538461538464, 0.23076923076923078, 0.3076923076923077]\n",
      "Parent 3: [1. 1. 1. 1. 1. 1. 1. 0.] Weights: [0 1 0 3 4]\n",
      "0.4710306341255527\n",
      "[0.0, 0.125, 0.0, 0.375, 0.5]\n",
      "Parent 4: [0. 0. 1. 0. 1. 1. 1. 0.] Weights: [0 1 0 3 0]\n"
     ]
    }
   ],
   "source": [
    "parent3, weights = choice_by_roulette(population, weights)\n",
    "print('Parent 3:', parent3, 'Weights:', weights)\n",
    "parent4, weights = choice_by_roulette(population, weights)\n",
    "print('Parent 4:', parent4,'Weights:', weights)"
   ]
  }
 ],
 "metadata": {
  "kernelspec": {
   "display_name": "Python 3",
   "language": "python",
   "name": "python3"
  },
  "language_info": {
   "codemirror_mode": {
    "name": "ipython",
    "version": 3
   },
   "file_extension": ".py",
   "mimetype": "text/x-python",
   "name": "python",
   "nbconvert_exporter": "python",
   "pygments_lexer": "ipython3",
   "version": "3.7.3"
  }
 },
 "nbformat": 4,
 "nbformat_minor": 1
}
