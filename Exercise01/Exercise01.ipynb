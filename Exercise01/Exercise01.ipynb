{
 "cells": [
  {
   "cell_type": "code",
   "execution_count": 1,
   "metadata": {
    "pycharm": {
     "is_executing": true
    }
   },
   "outputs": [],
   "source": [
    "#Import libraries\n",
    "import tensorflow as tf\n"
   ]
  },
  {
   "cell_type": "code",
   "execution_count": 2,
   "metadata": {},
   "outputs": [],
   "source": [
    "#Define function x**2-8*x+y**2+3*y\n",
    "def funct(x,y):\n",
    "    return x**2-8*x+y**2+3*y"
   ]
  },
  {
   "cell_type": "code",
   "execution_count": 3,
   "metadata": {},
   "outputs": [],
   "source": [
    "# Set the initial values for x and y\n",
    "def initialize():\n",
    "    x = tf.Variable(5.0)\n",
    "    y = tf.Variable(10.0)\n",
    "    return x, y\n"
   ]
  },
  {
   "cell_type": "code",
   "execution_count": 4,
   "metadata": {},
   "outputs": [],
   "source": [
    "#Initialize variables\n",
    "x, y= initialize()"
   ]
  },
  {
   "cell_type": "code",
   "execution_count": 5,
   "metadata": {},
   "outputs": [],
   "source": [
    "# Define optimizer as SGD from keras tensor flow, with learning rate of 0.3\n",
    "optimizer = tf.keras.optimizers.SGD(learning_rate = 0.1)"
   ]
  },
  {
   "cell_type": "code",
   "execution_count": 6,
   "metadata": {},
   "outputs": [
    {
     "name": "stdout",
     "output_type": "stream",
     "text": [
      "Step=0.0 , z =115.0,x=5.0,y=10.0\n",
      "Step=1.0 , z =67.0,x=4.8,y=7.7\n",
      "Step=2.0 , z =36.3,x=4.6,y=5.9\n",
      "Step=3.0 , z =16.7,x=4.5,y=4.4\n",
      "Step=4.0 , z =4.1,x=4.4,y=3.2\n",
      "Step=5.0 , z =-3.9,x=4.3,y=2.3\n",
      "Step=6.0 , z =-9.1,x=4.3,y=1.5\n",
      "Step=7.0 , z =-12.4,x=4.2,y=0.9\n",
      "Step=8.0 , z =-14.5,x=4.2,y=0.4\n",
      "Step=9.0 , z =-15.8,x=4.1,y=0.0\n",
      "Step=10.0 , z =-16.7,x=4.1,y=-0.3\n",
      "Step=11.0 , z =-17.3,x=4.1,y=-0.5\n",
      "Step=12.0 , z =-17.6,x=4.1,y=-0.7\n",
      "Step=13.0 , z =-17.8,x=4.1,y=-0.9\n",
      "Step=14.0 , z =-18.0,x=4.0,y=-1.0\n",
      "Step=15.0 , z =-18.1,x=4.0,y=-1.1\n",
      "Step=16.0 , z =-18.1,x=4.0,y=-1.2\n",
      "Step=17.0 , z =-18.2,x=4.0,y=-1.2\n",
      "Step=18.0 , z =-18.2,x=4.0,y=-1.3\n",
      "Step=19.0 , z =-18.2,x=4.0,y=-1.3\n",
      "Step=20.0 , z =-18.2,x=4.0,y=-1.4\n",
      "Step=21.0 , z =-18.2,x=4.0,y=-1.4\n",
      "Step=22.0 , z =-18.2,x=4.0,y=-1.4\n",
      "Step=23.0 , z =-18.2,x=4.0,y=-1.4\n",
      "Step=24.0 , z =-18.2,x=4.0,y=-1.4\n",
      "Step=25.0 , z =-18.2,x=4.0,y=-1.5\n",
      "Step=26.0 , z =-18.2,x=4.0,y=-1.5\n",
      "Step=27.0 , z =-18.2,x=4.0,y=-1.5\n",
      "Step=28.0 , z =-18.2,x=4.0,y=-1.5\n",
      "Step=29.0 , z =-18.2,x=4.0,y=-1.5\n",
      "Step=30.0 , z =-18.2,x=4.0,y=-1.5\n",
      "Step=31.0 , z =-18.2,x=4.0,y=-1.5\n",
      "Step=32.0 , z =-18.2,x=4.0,y=-1.5\n",
      "Step=33.0 , z =-18.2,x=4.0,y=-1.5\n",
      "Step=34.0 , z =-18.2,x=4.0,y=-1.5\n",
      "Step=35.0 , z =-18.2,x=4.0,y=-1.5\n",
      "Step=36.0 , z =-18.2,x=4.0,y=-1.5\n",
      "Step=37.0 , z =-18.2,x=4.0,y=-1.5\n",
      "Step=38.0 , z =-18.2,x=4.0,y=-1.5\n",
      "Step=39.0 , z =-18.2,x=4.0,y=-1.5\n",
      "Step=40.0 , z =-18.2,x=4.0,y=-1.5\n",
      "Step=41.0 , z =-18.2,x=4.0,y=-1.5\n",
      "Step=42.0 , z =-18.2,x=4.0,y=-1.5\n",
      "Step=43.0 , z =-18.2,x=4.0,y=-1.5\n",
      "Step=44.0 , z =-18.2,x=4.0,y=-1.5\n",
      "Step=45.0 , z =-18.2,x=4.0,y=-1.5\n",
      "Step=46.0 , z =-18.2,x=4.0,y=-1.5\n",
      "Step=47.0 , z =-18.2,x=4.0,y=-1.5\n",
      "Step=48.0 , z =-18.2,x=4.0,y=-1.5\n",
      "Step=49.0 , z =-18.2,x=4.0,y=-1.5\n",
      "Step=50.0 , z =-18.2,x=4.0,y=-1.5\n",
      "Step=51.0 , z =-18.2,x=4.0,y=-1.5\n",
      "Step=52.0 , z =-18.2,x=4.0,y=-1.5\n",
      "Step=53.0 , z =-18.2,x=4.0,y=-1.5\n",
      "Step=54.0 , z =-18.2,x=4.0,y=-1.5\n",
      "Step=55.0 , z =-18.2,x=4.0,y=-1.5\n",
      "Step=56.0 , z =-18.2,x=4.0,y=-1.5\n",
      "Step=57.0 , z =-18.2,x=4.0,y=-1.5\n",
      "Step=58.0 , z =-18.2,x=4.0,y=-1.5\n",
      "Step=59.0 , z =-18.2,x=4.0,y=-1.5\n",
      "Step=60.0 , z =-18.2,x=4.0,y=-1.5\n",
      "Step=61.0 , z =-18.2,x=4.0,y=-1.5\n",
      "Step=62.0 , z =-18.2,x=4.0,y=-1.5\n",
      "Step=63.0 , z =-18.2,x=4.0,y=-1.5\n",
      "Step=64.0 , z =-18.2,x=4.0,y=-1.5\n",
      "Step=65.0 , z =-18.2,x=4.0,y=-1.5\n",
      "Step=66.0 , z =-18.2,x=4.0,y=-1.5\n",
      "Step=67.0 , z =-18.2,x=4.0,y=-1.5\n",
      "Step=68.0 , z =-18.2,x=4.0,y=-1.5\n",
      "Step=69.0 , z =-18.2,x=4.0,y=-1.5\n",
      "Step=70.0 , z =-18.2,x=4.0,y=-1.5\n",
      "Step=71.0 , z =-18.2,x=4.0,y=-1.5\n",
      "Step=72.0 , z =-18.2,x=4.0,y=-1.5\n",
      "Step=73.0 , z =-18.2,x=4.0,y=-1.5\n",
      "Step=74.0 , z =-18.2,x=4.0,y=-1.5\n",
      "Step=75.0 , z =-18.2,x=4.0,y=-1.5\n",
      "Step=76.0 , z =-18.2,x=4.0,y=-1.5\n",
      "Step=77.0 , z =-18.2,x=4.0,y=-1.5\n",
      "Step=78.0 , z =-18.2,x=4.0,y=-1.5\n",
      "Step=79.0 , z =-18.2,x=4.0,y=-1.5\n",
      "Step=80.0 , z =-18.2,x=4.0,y=-1.5\n",
      "Step=81.0 , z =-18.2,x=4.0,y=-1.5\n",
      "Step=82.0 , z =-18.2,x=4.0,y=-1.5\n",
      "Step=83.0 , z =-18.2,x=4.0,y=-1.5\n",
      "Step=84.0 , z =-18.2,x=4.0,y=-1.5\n",
      "Step=85.0 , z =-18.2,x=4.0,y=-1.5\n",
      "Step=86.0 , z =-18.2,x=4.0,y=-1.5\n",
      "Step=87.0 , z =-18.2,x=4.0,y=-1.5\n",
      "Step=88.0 , z =-18.2,x=4.0,y=-1.5\n",
      "Step=89.0 , z =-18.2,x=4.0,y=-1.5\n",
      "Step=90.0 , z =-18.2,x=4.0,y=-1.5\n",
      "Step=91.0 , z =-18.2,x=4.0,y=-1.5\n",
      "Step=92.0 , z =-18.2,x=4.0,y=-1.5\n",
      "Step=93.0 , z =-18.2,x=4.0,y=-1.5\n",
      "Step=94.0 , z =-18.2,x=4.0,y=-1.5\n",
      "Step=95.0 , z =-18.2,x=4.0,y=-1.5\n",
      "Step=96.0 , z =-18.2,x=4.0,y=-1.5\n",
      "Step=97.0 , z =-18.2,x=4.0,y=-1.5\n",
      "Step=98.0 , z =-18.2,x=4.0,y=-1.5\n",
      "Step=99.0 , z =-18.2,x=4.0,y=-1.5\n"
     ]
    }
   ],
   "source": [
    "for i in range(100):\n",
    "    #use GradientTape as function for processing the gradients\n",
    "    with tf.GradientTape() as tape:\n",
    "        # Calculate loss function using x and y values\n",
    "        loss= funct(x,y)\n",
    "        # Get gradient values\n",
    "        gradients = tape.gradient(loss, [x, y])\n",
    "        # Save gradients in array without altering them\n",
    "        p_gradients = [grad for grad in gradients]\n",
    "        #Agregate gradients to values of x and y using zip function\n",
    "        ag = zip(p_gradients, [x,y])\n",
    "        #Output variables z, x, and y\n",
    "        print('Step={:.1f} , z ={:.1f},x={:.1f},y={:.1f}'.format(i, loss.numpy(), x.numpy(), y.numpy()))\n",
    "        # Update variables by applying gradients\n",
    "        optimizer.apply_gradients(ag)"
   ]
  }
 ],
 "metadata": {
  "kernelspec": {
   "display_name": "Python 3",
   "language": "python",
   "name": "python3"
  },
  "language_info": {
   "codemirror_mode": {
    "name": "ipython",
    "version": 3
   },
   "file_extension": ".py",
   "mimetype": "text/x-python",
   "name": "python",
   "nbconvert_exporter": "python",
   "pygments_lexer": "ipython3",
   "version": "3.7.3"
  }
 },
 "nbformat": 4,
 "nbformat_minor": 1
}
