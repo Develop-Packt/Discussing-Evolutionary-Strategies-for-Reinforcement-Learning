{
 "cells": [
  {
   "cell_type": "code",
   "execution_count": 1,
   "metadata": {},
   "outputs": [],
   "source": [
    "# Import libraries\n",
    "import tensorflow as tf\n",
    "import tensorflow_probability as tfp\n"
   ]
  },
  {
   "cell_type": "code",
   "execution_count": 2,
   "metadata": {},
   "outputs": [],
   "source": [
    "def funct(x,y):\n",
    "    return x**2-8*x+y**2+3*y"
   ]
  },
  {
   "cell_type": "code",
   "execution_count": 3,
   "metadata": {},
   "outputs": [],
   "source": [
    "# Identify starting point\n",
    "initial_position = (tf.Variable(5.0), tf.Variable(10.0))"
   ]
  },
  {
   "cell_type": "code",
   "execution_count": 4,
   "metadata": {},
   "outputs": [],
   "source": [
    "# Compute optimizer using a single starting value set\n",
    "optimizer1 = tfp.optimizer.differential_evolution_minimize(funct, initial_position = initial_position,\n",
    "                                                           population_size = 100, population_stddev = 1.5,\n",
    "                                                           seed = 879879)\n"
   ]
  },
  {
   "cell_type": "code",
   "execution_count": 5,
   "metadata": {},
   "outputs": [
    {
     "name": "stdout",
     "output_type": "stream",
     "text": [
      "Final solution: z=-18.2, x=4.0, y=-1.5\n"
     ]
    }
   ],
   "source": [
    "print('Final solution: z={:.1f}, x={:.1f}, y={:.1f}'.format(optimizer1.objective_value.numpy(),\n",
    "                                                            optimizer1.position[0].numpy(),\n",
    "                                                            optimizer1.position[1].numpy()))"
   ]
  },
  {
   "cell_type": "code",
   "execution_count": 6,
   "metadata": {},
   "outputs": [],
   "source": [
    "import random"
   ]
  },
  {
   "cell_type": "code",
   "execution_count": 7,
   "metadata": {},
   "outputs": [],
   "source": [
    "# Compute population from a uniform distribution\n",
    "size = 100\n",
    "initial_population = (tf.random.uniform([size]), tf.random.uniform([size]))"
   ]
  },
  {
   "cell_type": "code",
   "execution_count": 8,
   "metadata": {},
   "outputs": [
    {
     "name": "stdout",
     "output_type": "stream",
     "text": [
      "Final solution: z=-18.2, x=4.0, y=-1.5\n"
     ]
    }
   ],
   "source": [
    "optimizer2 = tfp.optimizer.differential_evolution_minimize(funct, initial_population= initial_population, seed=879879)\n",
    "print('Final solution: z={:.1f}, x={:.1f}, y={:.1f}'.format(optimizer2.objective_value.numpy(),\n",
    "                                                            optimizer2.position[0].numpy(),\n",
    "                                                            optimizer2.position[1].numpy()))\n"
   ]
  }
 ],
 "metadata": {
  "kernelspec": {
   "display_name": "Python 3",
   "language": "python",
   "name": "python3"
  },
  "language_info": {
   "codemirror_mode": {
    "name": "ipython",
    "version": 3
   },
   "file_extension": ".py",
   "mimetype": "text/x-python",
   "name": "python",
   "nbconvert_exporter": "python",
   "pygments_lexer": "ipython3",
   "version": "3.7.3"
  }
 },
 "nbformat": 4,
 "nbformat_minor": 1
}
